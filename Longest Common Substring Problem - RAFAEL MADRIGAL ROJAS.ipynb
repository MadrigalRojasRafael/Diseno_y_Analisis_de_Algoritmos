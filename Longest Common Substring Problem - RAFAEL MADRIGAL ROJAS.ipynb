{
 "cells": [
  {
   "attachments": {},
   "cell_type": "markdown",
   "metadata": {},
   "source": [
    "<center>\n",
    "\n",
    "# **Longest Common Substring Problem**\n",
    "\n",
    "---"
   ]
  },
  {
   "attachments": {},
   "cell_type": "markdown",
   "metadata": {},
   "source": [
    "### **Descripción del Problema:**\n",
    "\n",
    "El **Problema de la Subcadena Común Más Larga** (**Longest Common Substring Problem**) es un problema clásico en la ciencia de la computación y se **utiliza** en varios campos, como la **bioinformática** y la **compresión de datos**. El **objetivo** es **encontrar** la **subcadena más larga** que es **común** de **dos** o **más cadenas de texto**.\n",
    "\n",
    "**Formalmente**, **dadas dos** o **más cadenas de texto**, el problema consiste en **encontrar** la **subcadena más larga** que aparece en **todas** las **cadenas** de **entrada** de **forma consecutiva**. Por ejemplo, si **tenemos** las **cadenas** \"**abcdef**\" y \"**zabcdeft**\", la **subcadena más larga común** sería \"**abcde**\".\n",
    "\n",
    "---\n",
    "\n",
    "### **Algoritmo de Smith-Waterman**\n",
    "\n",
    "+ El **algoritmo de Smith-Waterman** es un **algoritmo** de **alineación local** utilizado para **encontrar** las **similitudes** entre **dos cadenas de texto**.\n",
    "\n",
    "#### **Algoritmo de Smith-Waterman en Lenguaje Natural**\n",
    "\n",
    "1. **Definir** una **matriz** de **dimensiones** (**m + 1**) **x** (**n + 1**), donde **m** y **n** son las **longitudes** de las dos **cadenas** de entrada.\n",
    "2. **Inicializar** la **primera fila** y la **primera columna** con **ceros**.\n",
    "3. **Recorrer cada posición** (**i, j**) de la **matriz** a partir de la **segunda fila** y la **segunda columna**.\n",
    "4. **Calcular** el **puntaje** en la **posición** (**i, j**) **comparando** los **caracteres** en las **posiciones correspondientes** en las **secuencias** de entrada.\n",
    "    1. **Si** los **caracteres coinciden**, **asignar** un **puntaje positivo** a la **posición** (**i, j**) **basado** en el **puntaje** de la **posición anterior** en **diagonal** (**i-1, j-1**) **más** un **puntaje de coincidencia**.\n",
    "    2. **Si** los **caracteres no coinciden**, **asignar cero** al **puntaje** en la **posición** (**i, j**).\n",
    "5. **Actualizar** la **posición** en las **i** y **j**  para **recorrer** las **filas** y **columnas** de la **matriz** según se desee hasta **recorrer todas** las **posibles posiciones**.\n",
    "6. **Durante** el **proceso**, **mantener** un **registro** del **puntaje máximo encontrado** y su **posición correspondiente**.\n",
    "7. Una vez **finalizado** el **recorrido**, **obtener** los **caractéres almacenados** en **cada celda** **desde** la **posición** con el **puntaje máximo** **hasta** **encontrar** un **puntaje cero** para **construir** la **subcadena común más larga**.\n"
   ]
  },
  {
   "cell_type": "code",
   "execution_count": 9,
   "metadata": {},
   "outputs": [
    {
     "name": "stdout",
     "output_type": "stream",
     "text": [
      "----------------------------------------------------- Cadenas de Entrada ----------------------------------------------------\n",
      "Cadena 1: \n",
      "_Ejemplo de Subcadena Común Más Larga_abcdeOASJDKJNASKDJBASKuygasbdjchbshjadcbskldcj\n",
      "buiyqevbwjhasdbcjhkbsamkjcbsajkxhbcjksahbcjsahbdjkchbsadjkhcbasjkdhcbasjkdhbckjashdbcjkhsdbjkchsa\n",
      "bkjchbsdaLJBIOUBASKCJNKSAJBDNCKLASHDOPIASHDFKLJSJAHBSJBASKJXBASLKXJBASKLXJBJHBFJAHBSCJHABSCKLBJAS\n",
      "CJKLHABSCKLBASJCHBAJSHCBAJKHSBCKJAHSBCJAHSBCJKAHBSCJKHABSCJKHABSKJHBCAJKSCHBAJKSHBCJKASHBCJKAHSBC\n",
      "JKHASBDKJASHDBCKJSADHBKJKHBDSAJHASBDJjhbdjahsbdjahbsdjhabsJASHDBKJSDHBCACSSDADHFLKSJADfIAJSNDKLBS\n",
      "DCKJABSKJBSDkahsbkjbJHBajkhbasdjhbaskajsndkjaaabsdkjabsdkjabsdkjkhdbauygqdhbjkchvakjbcsakjhvCg\n",
      "Cadena 2: \n",
      "xyzabcdKLJABSNDKJHBKCMBNSAKJBCHLKDNCLKASBDCL,NKLNJCSKLANJLKSNJDCLÑNSDÑLCNLÑDSKCNIOUE\n",
      "BKLASDJBFNKLHSJDBFLKSJDqweuyfgdsjcbsahgasdkugvfjndcvjvhsduyguishbhjasdvkjASUIFEDYUIJKFBVHJKBASDJH\n",
      "KASDJNCSKDJHVjkhsdfbsdjajdasjkhfb dsjkasbhBANCKLASDBJFKLJSADHFLKSADJHFLÑASKDNCKSJADNCKLSJDCBJSDHB\n",
      "FIUABSDJAHFBJKASDHBFKASJDHCBJKASHDBCJKSAHDBCJKSDBCJKSHDBCJKSHDBCJKAHSBDJKASHDBCKJSADHBCKJSAHDBCJK\n",
      "SAHBCJKSHADBKJASHDBJKCHBAJKHKLuiashjhbslasjkhabsdlkjbaslkdmalsjndkajsndkjnaskdjnaskjdnjasjkhdbakl\n",
      "jsbxasdlkjKJkjabsdkjbKJBNIIKFNDSKJNSDKFJNckjhsabdcJSABDC_Ejemplo de Subcadena Común Más Larga_\n",
      "--------------------------------------------------------- Resultado ---------------------------------------------------------\n",
      "La subcadena común más larga es: _Ejemplo de Subcadena Común Más Larga_\n"
     ]
    }
   ],
   "source": [
    "#Importamos el módulo numpy para manejar de manera fácil los elementos de las listas y crear matrices.\n",
    "import numpy as np\n",
    "\n",
    "#Cremamos la función para implementar el algoritmo de Smith-Waterman.\n",
    "def subcadena_comun_mas_larga(subcadena1, subcadena2):\n",
    "    m = len(subcadena1)\n",
    "    n = len(subcadena2)\n",
    "\n",
    "    # Creamos una matriz para almacenar los resultados intermedios.\n",
    "    matriz = np.zeros((m+1, n+1), dtype=int)\n",
    "    longitud_maxima = 0\n",
    "    indice_final = 0\n",
    "\n",
    "    # Llenamos la matriz con los resultados.\n",
    "    for i in range(1, m+1):\n",
    "        for j in range(1, n+1):\n",
    "            if subcadena1[i-1] == subcadena2[j-1]:\n",
    "                matriz[i][j] = matriz[i-1][j-1] + 1\n",
    "                if matriz[i][j] > longitud_maxima:\n",
    "                    longitud_maxima = matriz[i][j]\n",
    "                    indice_final = i\n",
    "            else:\n",
    "                matriz[i][j] = 0\n",
    "\n",
    "    # Extraemos la subcadena común más larga y la devolvemos como resultado de la función.\n",
    "    subcadena = subcadena1[indice_final-longitud_maxima:indice_final]\n",
    "    return subcadena\n",
    "\n",
    "#Ejemplo de uso del algoritmo de Smith-Waterman para resolver el Longest Common Substring Problem.\n",
    "cadena1 = \"\"\"_Ejemplo de Subcadena Común Más Larga_abcdeOASJDKJNASKDJBASKuygasbdjchbshjadcbskldcj\n",
    "buiyqevbwjhasdbcjhkbsamkjcbsajkxhbcjksahbcjsahbdjkchbsadjkhcbasjkdhcbasjkdhbckjashdbcjkhsdbjkchsa\n",
    "bkjchbsdaLJBIOUBASKCJNKSAJBDNCKLASHDOPIASHDFKLJSJAHBSJBASKJXBASLKXJBASKLXJBJHBFJAHBSCJHABSCKLBJAS\n",
    "CJKLHABSCKLBASJCHBAJSHCBAJKHSBCKJAHSBCJAHSBCJKAHBSCJKHABSCJKHABSKJHBCAJKSCHBAJKSHBCJKASHBCJKAHSBC\n",
    "JKHASBDKJASHDBCKJSADHBKJKHBDSAJHASBDJjhbdjahsbdjahbsdjhabsJASHDBKJSDHBCACSSDADHFLKSJADfIAJSNDKLBS\n",
    "DCKJABSKJBSDkahsbkjbJHBajkhbasdjhbaskajsndkjaaabsdkjabsdkjabsdkjkhdbauygqdhbjkchvakjbcsakjhvCg\"\"\"\n",
    "cadena2 = \"\"\"xyzabcdKLJABSNDKJHBKCMBNSAKJBCHLKDNCLKASBDCL,NKLNJCSKLANJLKSNJDCLÑNSDÑLCNLÑDSKCNIOUE\n",
    "BKLASDJBFNKLHSJDBFLKSJDqweuyfgdsjcbsahgasdkugvfjndcvjvhsduyguishbhjasdvkjASUIFEDYUIJKFBVHJKBASDJH\n",
    "KASDJNCSKDJHVjkhsdfbsdjajdasjkhfb dsjkasbhBANCKLASDBJFKLJSADHFLKSADJHFLÑASKDNCKSJADNCKLSJDCBJSDHB\n",
    "FIUABSDJAHFBJKASDHBFKASJDHCBJKASHDBCJKSAHDBCJKSDBCJKSHDBCJKSHDBCJKAHSBDJKASHDBCKJSADHBCKJSAHDBCJK\n",
    "SAHBCJKSHADBKJASHDBJKCHBAJKHKLuiashjhbslasjkhabsdlkjbaslkdmalsjndkajsndkjnaskdjnaskjdnjasjkhdbakl\n",
    "jsbxasdlkjKJkjabsdkjbKJBNIIKFNDSKJNSDKFJNckjhsabdcJSABDC_Ejemplo de Subcadena Común Más Larga_\"\"\"\n",
    "\n",
    "print(\" Cadenas de Entrada \".center(125, \"-\"))\n",
    "print(f\"Cadena 1: \\n{cadena1}\")\n",
    "print(f\"Cadena 2: \\n{cadena2}\")\n",
    "print(\" Resultado \".center(125, \"-\"))\n",
    "subcadena = subcadena_comun_mas_larga(cadena1, cadena2)\n",
    "print(\"La subcadena común más larga es:\", subcadena)\n",
    "\n"
   ]
  },
  {
   "attachments": {},
   "cell_type": "markdown",
   "metadata": {},
   "source": [
    "---"
   ]
  }
 ],
 "metadata": {
  "kernelspec": {
   "display_name": "Python 3",
   "language": "python",
   "name": "python3"
  },
  "language_info": {
   "codemirror_mode": {
    "name": "ipython",
    "version": 3
   },
   "file_extension": ".py",
   "mimetype": "text/x-python",
   "name": "python",
   "nbconvert_exporter": "python",
   "pygments_lexer": "ipython3",
   "version": "3.11.3"
  },
  "orig_nbformat": 4
 },
 "nbformat": 4,
 "nbformat_minor": 2
}
