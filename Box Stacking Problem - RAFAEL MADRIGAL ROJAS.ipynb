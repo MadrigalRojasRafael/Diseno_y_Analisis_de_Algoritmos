{
 "cells": [
  {
   "attachments": {},
   "cell_type": "markdown",
   "metadata": {},
   "source": [
    "<center>\n",
    "\n",
    "# **Box Stacking Problem**\n",
    "\n",
    "---"
   ]
  },
  {
   "attachments": {},
   "cell_type": "markdown",
   "metadata": {},
   "source": [
    "### **Descripcion del Problema:**\n",
    "\n",
    "Se tiene un **conjunto** de **cajas B** con **dimensiones** **largo**, **ancho** y **altura**. \n",
    "\n",
    "El **objetivo** es **formar** la **torre más alta** que se **puede generar** con ellas, con la **única condición** de que **no** se puede **colocar** una **caja con área mayor arriba** de una **caja con área menor**. \n",
    "\n",
    "Encontrar un **algoritmo** con el cual **logren hacerlo** de la **forma más eficiente posible**.\n",
    "\n",
    "---"
   ]
  },
  {
   "attachments": {},
   "cell_type": "markdown",
   "metadata": {},
   "source": [
    "### **El Problema del Apilamiento de Cajas**\n",
    "\n",
    "El **Problema de Apilamiento de Cajas** (**Box Stacking Problem**) es un **problema** de **optimización combinatoria** que se utiliza para **encontrar** la **altura máxima** que se puede lograr al **apilar cajas rectangulares en una pila**.\n",
    "\n",
    "Suponiendo que se tienen **n cajas**, cada una con una **altura h**, un **ancho w** y una **profundidad d**. El **objetivo** es **apilar** las **cajas** de tal manera que se **maximice** la **altura total de la pila**, teniendo en cuenta que las **cajas sólo se pueden apilar si su base es menor en altura**, **ancho** y **profundidad** que la **caja** que está **debajo**.\n",
    "\n",
    "El **problema del apilamiento de cajas** tiene **aplicaciones** prácticas en la **logística**, en la **optimización de espacios de almacenamiento**, y en la **planificación** de la **distribución de productos en estantes** y **paletas** en el **transporte** y **almacenamiento de mercancías**.\n",
    "\n",
    "---\n",
    "\n",
    "### **Algoritmo Voraz**\n",
    "\n",
    "+ Los **algoritmos voraces (greedy algorithms)**, son algoritmos que **resuelven problemas** mediante la **toma de decisiones locales óptimas** en cada paso, **sin considerar** las posibles **consecuencias futuras** de esas decisiones. \n",
    "\n",
    "+ En otras palabras, **en cada paso** del algoritmo, **se toma la mejor decisión posible** basada en la información disponible en ese momento, con la esperanza de que **esa decisión conduzca** a una **solución óptima global**.\n",
    "\n",
    "#### **Algoritmo Voraz en Lenguaje Natural** \n",
    "\n",
    "1. **Ordenar** las **cajas** en **base** a una **dimensión**, por ejemplo, **altura**.\n",
    "2. **Iniciar** con la **caja más alta** en la **parte inferior** y **colocar** la **siguiente caja más alta** que **pueda** ser **apilada sobre ella**.\n",
    "3. **Continuar** **colocando** las **cajas más altas posibles** en la **parte superior** de la **pila**, **siempre y cuando** las **dimensiones** de la **caja superior** sean **menores que** las **dimensiones** de la **caja inferior**.\n",
    "4. **Repetir** los **pasos** **2** y **3** **hasta** que se hayan **utilizado** **todas** las **cajas**.\n"
   ]
  },
  {
   "cell_type": "code",
   "execution_count": 3,
   "metadata": {},
   "outputs": [
    {
     "name": "stdout",
     "output_type": "stream",
     "text": [
      "----------------------------------------------------------- Cajas -----------------------------------------------------------\n",
      "[[15  5  3]\n",
      " [ 2  2 15]\n",
      " [13  7  1]\n",
      " ...\n",
      " [ 4 15  9]\n",
      " [ 6  4  3]\n",
      " [ 8  8  5]]\n",
      "--------------------------------------------------------- Resultado ---------------------------------------------------------\n",
      "Altura máxima: 128.0\n"
     ]
    }
   ],
   "source": [
    "#Importamos el módulo numpy para manejar de manera fácil los elementos de las listas.\n",
    "import numpy as np\n",
    "\n",
    "def crear_cajas(num_cajas, tamaño_limite):\n",
    "    # Crear cajas de manera aleatoria con numpy\n",
    "    cajas = np.random.randint(1, tamaño_limite+1, size=(num_cajas, 3))\n",
    "    return cajas\n",
    "\n",
    "def apilamiento_cajas(cajas):\n",
    "    # Ordenar las cajas por altura (tercera dimensión)\n",
    "    cajas_ordenadas = cajas[np.argsort(cajas[:, 2])[::-1]]\n",
    "    \n",
    "    n = len(cajas_ordenadas)\n",
    "    alturas = cajas_ordenadas[:, 2]\n",
    "    bases = cajas_ordenadas[:, :2]\n",
    "    dp = np.zeros(n)\n",
    "    \n",
    "    # Calcular la altura máxima que se puede alcanzar al agregar la i-ésima caja en la pila\n",
    "    for i in range(n):\n",
    "        for j in range(i):\n",
    "            if np.all(bases[i] < bases[j]):\n",
    "                dp[i] = max(dp[i], dp[j])\n",
    "        dp[i] += alturas[i]\n",
    "        \n",
    "    # Encontrar la altura máxima posible\n",
    "    altura_maxima = np.max(dp)\n",
    "    \n",
    "    # Construir la pila de cajas\n",
    "    pila_cajas = []\n",
    "    altura_actual = altura_maxima\n",
    "    for i in range(n - 1, -1, -1):\n",
    "        if dp[i] == altura_actual:\n",
    "            pila_cajas.append(cajas_ordenadas[i])\n",
    "            altura_actual -= cajas_ordenadas[i, 2]\n",
    "    \n",
    "    # Devolver la altura máxima\n",
    "    return altura_maxima\n",
    "\n",
    "print(\" Cajas \".center(125, \"-\"))\n",
    "cajas = crear_cajas(1000, 15)\n",
    "print(cajas)\n",
    "print(\" Resultado \".center(125, \"-\"))\n",
    "print(f\"Altura máxima: {apilamiento_cajas(cajas)}\")\n"
   ]
  },
  {
   "attachments": {},
   "cell_type": "markdown",
   "metadata": {},
   "source": [
    "---"
   ]
  },
  {
   "attachments": {},
   "cell_type": "markdown",
   "metadata": {},
   "source": [
    "### **Programación Dinámica**\n",
    "\n",
    "+ La **programación dinámica** es una **técnica** utilizada en informática y matemáticas para **resolver problemas complejos dividiéndolos** en otros **más pequeños** y **resolviendo** cada problema, **guardando** sus **resultados** y **reutilizándolos** en lugar de leerlos nuevamente.  \n",
    "\n",
    "+ La **programación dinámica** ofrece **beneficios** como la **optimización de tiempo**, la **garantía de solución óptima**, la **reutilización de resultados**, la **versatilidad** y la **escalabilidad**. Estos beneficios hacen que sea una **técnica** valiosa para **resolver problemas computacionales** de manera **eficiente** y **efectiva**.\n",
    "\n",
    "#### **Algoritmo de Programación Dinámica en Lenguaje Natural**\n",
    "\n",
    "1. **Generar** un **conjunto** de **todas** las posibles **rotaciones** de las **cajas**.\n",
    "2. **Ordenar** las **cajas** en **orden no creciente** de **área** de **base**.\n",
    "3. **Crear** una **matriz tridimensional** donde la entrada **matriz[i][j][k] representa** la **altura máxima** que se puede **obtener** al **colocar** la **caja i** en la **parte superior** de la **caja j** y en el **lugar k** para **todas** las **combinaciones (i,j,k)** de **cajas**.\n",
    "4. **Inicializar** todas las entradas de la **matriz con ceros**.\n",
    "5. **Recorrer** la **matriz tridimensional** y se **calcula** el **valor** de **cada entrada matriz[i][j][k]** de la siguiente manera:\n",
    "    1. **matriz[i][j][k] = matriz[j][k][máxima_altura] + altura[i]** donde \"**máxima_altura**\" es el **valor** de **k** que **maximiza** la **altura total** y **cumple** las **restricciones** de **tamaño** de la **base de la caja**.\n",
    "6. **Encuentra** la **altura máxima** de la **pila** como el **máximo valor** de la **matriz**."
   ]
  },
  {
   "cell_type": "code",
   "execution_count": 4,
   "metadata": {},
   "outputs": [
    {
     "name": "stdout",
     "output_type": "stream",
     "text": [
      "----------------------------------------------------------- Cajas -----------------------------------------------------------\n",
      "[[15  5  3]\n",
      " [ 2  2 15]\n",
      " [13  7  1]\n",
      " ...\n",
      " [ 4 15  9]\n",
      " [ 6  4  3]\n",
      " [ 8  8  5]]\n",
      "--------------------------------------------------------- Resultado ---------------------------------------------------------\n",
      "Altura máxima: 209.0\n"
     ]
    }
   ],
   "source": [
    "#Importamos el módulo numpy para manejar de manera fácil los elementos de las listas.\n",
    "import numpy as np\n",
    "\n",
    "def calcular_max_altura(cajas):\n",
    "    # Obtener dimensiones de cada caja\n",
    "    n = len(cajas)\n",
    "    dimensiones = np.zeros((n*3, 3))\n",
    "    for i in range(n):\n",
    "        d1, d2, d3 = cajas[i]\n",
    "        dimensiones[i*3] = [d1, d2, d3]\n",
    "        dimensiones[i*3+1] = [d2, d1, d3]\n",
    "        dimensiones[i*3+2] = [d3, d1, d2]\n",
    "    n *= 3\n",
    "\n",
    "    # Ordenar cajas por área de base en orden descendente\n",
    "    indices = np.argsort(dimensiones[:, 0] * dimensiones[:, 1])[::-1]\n",
    "    dimensiones = dimensiones[indices]\n",
    "\n",
    "    # Calcular altura máxima usando programación dinámica\n",
    "    dp = np.zeros(n)\n",
    "    dp[0] = dimensiones[0][2]\n",
    "    for i in range(1, n):\n",
    "        max_altura = 0\n",
    "        for j in range(i):\n",
    "            if (dimensiones[i][0] < dimensiones[j][0] and dimensiones[i][1] < dimensiones[j][1]):\n",
    "                max_altura = max(max_altura, dp[j])\n",
    "        dp[i] = max_altura + dimensiones[i][2]\n",
    "\n",
    "    return np.max(dp)\n",
    "\n",
    "# Ejemplo de uso\n",
    "print(\" Cajas \".center(125, \"-\"))\n",
    "print(cajas)\n",
    "print(\" Resultado \".center(125, \"-\"))\n",
    "print(f\"Altura máxima: {calcular_max_altura(cajas)}\")"
   ]
  },
  {
   "attachments": {},
   "cell_type": "markdown",
   "metadata": {},
   "source": [
    "---"
   ]
  }
 ],
 "metadata": {
  "kernelspec": {
   "display_name": "Python 3",
   "language": "python",
   "name": "python3"
  },
  "language_info": {
   "codemirror_mode": {
    "name": "ipython",
    "version": 3
   },
   "file_extension": ".py",
   "mimetype": "text/x-python",
   "name": "python",
   "nbconvert_exporter": "python",
   "pygments_lexer": "ipython3",
   "version": "3.11.3"
  },
  "orig_nbformat": 4
 },
 "nbformat": 4,
 "nbformat_minor": 2
}
